{
  "nbformat": 4,
  "nbformat_minor": 0,
  "metadata": {
    "colab": {
      "name": "bbc_news.ipynb",
      "provenance": [],
      "collapsed_sections": [],
      "toc_visible": true,
      "machine_shape": "hm",
      "include_colab_link": true
    },
    "kernelspec": {
      "name": "python3",
      "display_name": "Python 3"
    },
    "accelerator": "GPU"
  },
  "cells": [
    {
      "cell_type": "markdown",
      "metadata": {
        "id": "view-in-github",
        "colab_type": "text"
      },
      "source": [
        "<a href=\"https://colab.research.google.com/github/Mindauskas/bbc_news/blob/master/bbc_news.ipynb\" target=\"_parent\"><img src=\"https://colab.research.google.com/assets/colab-badge.svg\" alt=\"Open In Colab\"/></a>"
      ]
    },
    {
      "cell_type": "code",
      "metadata": {
        "id": "avRJ8MsC5X1o",
        "colab_type": "code",
        "outputId": "e330bfd2-58db-4e2d-a8e8-3ab126536453",
        "colab": {
          "base_uri": "https://localhost:8080/",
          "height": 34
        }
      },
      "source": [
        "try:\n",
        "   %tensorflow_version 2.x\n",
        "except Exception:\n",
        "   pass"
      ],
      "execution_count": 1,
      "outputs": [
        {
          "output_type": "stream",
          "text": [
            "TensorFlow 2.x selected.\n"
          ],
          "name": "stdout"
        }
      ]
    },
    {
      "cell_type": "code",
      "metadata": {
        "id": "xTD3NL3a5jgt",
        "colab_type": "code",
        "colab": {}
      },
      "source": [
        "SETUP = True"
      ],
      "execution_count": 0,
      "outputs": []
    },
    {
      "cell_type": "code",
      "metadata": {
        "id": "lzF31qtJ5jkO",
        "colab_type": "code",
        "outputId": "5055880c-c60b-47b7-f09f-e71588770909",
        "colab": {
          "base_uri": "https://localhost:8080/",
          "height": 462
        }
      },
      "source": [
        "if SETUP:\n",
        "    !pip install -q -U toai==0.2.*\n",
        "    !pip install -q -U nb_black\n",
        "    !pip install -q -U tensorflow-datasets\n",
        "    !pip install -q -U --no-deps tensorflow-addons\n",
        "    !pip install -q -U tensorflow_hub\n",
        "    !pip install -q -U git+https://github.com/huggingface/transformers\n",
        "    print(__import__(\"toai\").__version__)\n",
        "    print(__import__(\"tensorflow\").__version__)"
      ],
      "execution_count": 3,
      "outputs": [
        {
          "output_type": "stream",
          "text": [
            "\u001b[K     |████████████████████████████████| 81kB 6.1MB/s \n",
            "\u001b[K     |████████████████████████████████| 552kB 14.4MB/s \n",
            "\u001b[K     |████████████████████████████████| 296kB 44.1MB/s \n",
            "\u001b[K     |████████████████████████████████| 153kB 52.2MB/s \n",
            "\u001b[K     |████████████████████████████████| 122kB 43.5MB/s \n",
            "\u001b[K     |████████████████████████████████| 61kB 8.6MB/s \n",
            "\u001b[?25h  Building wheel for funcy (setup.py) ... \u001b[?25l\u001b[?25hdone\n",
            "  Building wheel for fastparquet (setup.py) ... \u001b[?25l\u001b[?25hdone\n",
            "  Building wheel for thrift (setup.py) ... \u001b[?25l\u001b[?25hdone\n",
            "\u001b[31mERROR: google-colab 1.0.0 has requirement google-auth~=1.4.0, but you'll have google-auth 1.7.1 which is incompatible.\u001b[0m\n",
            "\u001b[31mERROR: google-colab 1.0.0 has requirement requests~=2.21.0, but you'll have requests 2.22.0 which is incompatible.\u001b[0m\n",
            "\u001b[31mERROR: google-colab 1.0.0 has requirement six~=1.12.0, but you'll have six 1.13.0 which is incompatible.\u001b[0m\n",
            "\u001b[31mERROR: datascience 0.10.6 has requirement folium==0.2.1, but you'll have folium 0.8.3 which is incompatible.\u001b[0m\n",
            "\u001b[K     |████████████████████████████████| 102kB 4.6MB/s \n",
            "\u001b[K     |████████████████████████████████| 645kB 15.5MB/s \n",
            "\u001b[K     |████████████████████████████████| 737kB 57.0MB/s \n",
            "\u001b[?25h  Building wheel for nb-black (setup.py) ... \u001b[?25l\u001b[?25hdone\n",
            "  Building wheel for pathspec (setup.py) ... \u001b[?25l\u001b[?25hdone\n",
            "\u001b[K     |████████████████████████████████| 1.8MB 5.0MB/s \n",
            "\u001b[K     |████████████████████████████████| 1.0MB 5.0MB/s \n",
            "\u001b[K     |████████████████████████████████| 860kB 51.5MB/s \n",
            "\u001b[?25h  Building wheel for transformers (setup.py) ... \u001b[?25l\u001b[?25hdone\n",
            "  Building wheel for sacremoses (setup.py) ... \u001b[?25l\u001b[?25hdone\n",
            "0.2.7\n",
            "2.0.0\n"
          ],
          "name": "stdout"
        }
      ]
    },
    {
      "cell_type": "code",
      "metadata": {
        "id": "AeB5eKMK5jp4",
        "colab_type": "code",
        "outputId": "4511c597-a513-413b-ad00-1e55f41136ff",
        "colab": {
          "base_uri": "https://localhost:8080/",
          "height": 105
        }
      },
      "source": [
        "from toai.imports import *\n",
        "from toai.data import DataBundle, DataParams, DataContainer\n",
        "from toai.metrics import sparse_top_2_categorical_accuracy\n",
        "from toai.models import save_keras_model, load_keras_model\n",
        "from toai.utils import save_file, load_file\n",
        "import tensorflow as tf\n",
        "from tensorflow import keras\n",
        "import tensorflow_addons as tfa\n",
        "import tensorflow_datasets as tfds\n",
        "import tensorflow_hub as hub\n",
        "import csv\n",
        "import transformers"
      ],
      "execution_count": 4,
      "outputs": [
        {
          "output_type": "stream",
          "text": [
            "/usr/local/lib/python3.6/dist-packages/sklearn/externals/joblib/__init__.py:15: DeprecationWarning: sklearn.externals.joblib is deprecated in 0.21 and will be removed in 0.23. Please import this functionality directly from joblib, which can be installed with: pip install joblib. If this warning is raised when loading pickled models, you may need to re-serialize those models with scikit-learn 0.21+.\n",
            "  warnings.warn(msg, category=DeprecationWarning)\n",
            "/usr/local/lib/python3.6/dist-packages/toai/imports.py:70: UserWarning: Could not find kaggle.json. Make sure it's located in /root/.kaggle. Or use the environment method.\n",
            "  warnings.warn(str(error))\n"
          ],
          "name": "stderr"
        }
      ]
    },
    {
      "cell_type": "code",
      "metadata": {
        "id": "sxw46zEFkoso",
        "colab_type": "code",
        "outputId": "ce4274a8-fbe4-44f1-ba46-ee89e738782e",
        "colab": {
          "base_uri": "https://localhost:8080/",
          "height": 34
        }
      },
      "source": [
        "tf.test.gpu_device_name()"
      ],
      "execution_count": 5,
      "outputs": [
        {
          "output_type": "execute_result",
          "data": {
            "text/plain": [
              "'/device:GPU:0'"
            ]
          },
          "metadata": {
            "tags": []
          },
          "execution_count": 5
        }
      ]
    },
    {
      "cell_type": "code",
      "metadata": {
        "id": "JRDaPKEl5juL",
        "colab_type": "code",
        "colab": {}
      },
      "source": [
        "DATA_DIR = Path(\"data/bbc_news\")\n",
        "DATA_DIR.mkdir(parents=True, exist_ok=True)\n",
        "\n",
        "TEMP_DIR = Path(\"temp/bbc_news\")\n",
        "TEMP_DIR.mkdir(parents=True, exist_ok=True)"
      ],
      "execution_count": 0,
      "outputs": []
    },
    {
      "cell_type": "code",
      "metadata": {
        "id": "yfI-8YSS6giQ",
        "colab_type": "code",
        "colab": {}
      },
      "source": [
        "if SETUP:\n",
        "    shutil.rmtree(str(DATA_DIR))\n",
        "    shutil.rmtree(str(TEMP_DIR))\n",
        "    DATA_DIR.mkdir(parents=True, exist_ok=True)\n",
        "    TEMP_DIR.mkdir(parents=True, exist_ok=True)\n",
        "    #shutil.copy(\"bbc_news.pickle\", DATA_DIR)"
      ],
      "execution_count": 0,
      "outputs": []
    },
    {
      "cell_type": "code",
      "metadata": {
        "id": "R6GGpvmg6gv9",
        "colab_type": "code",
        "colab": {}
      },
      "source": [
        "BATCH_SIZE = 8\n",
        "AUTOTUNE = tf.data.experimental.AUTOTUNE"
      ],
      "execution_count": 0,
      "outputs": []
    },
    {
      "cell_type": "markdown",
      "metadata": {
        "id": "LqNHXShH7fJg",
        "colab_type": "text"
      },
      "source": [
        "# **Dataset**"
      ]
    },
    {
      "cell_type": "markdown",
      "metadata": {
        "id": "8lGgEthf7oUB",
        "colab_type": "text"
      },
      "source": [
        "The datset is taken from https://www.kaggle.com/pariza/bbc-news-summary.\n",
        "This dataset for extractive text summarization has four hundred and seventeen political news articles of BBC from 2004 to 2005 in the News Articles folder. For each articles, five summaries are provided in the Summaries folder. The first clause of the text of articles is the respective title."
      ]
    },
    {
      "cell_type": "code",
      "metadata": {
        "id": "glej8ZtR6g29",
        "colab_type": "code",
        "colab": {}
      },
      "source": [
        "with open(\"bbc_news.pickle\", \"rb\") as f:\n",
        "    data = pickle.load(f)"
      ],
      "execution_count": 0,
      "outputs": []
    },
    {
      "cell_type": "code",
      "metadata": {
        "id": "o5dqQ7Xc6g65",
        "colab_type": "code",
        "outputId": "69bc34e2-feb0-4c44-83a2-f4edf85670eb",
        "colab": {
          "base_uri": "https://localhost:8080/",
          "height": 204
        }
      },
      "source": [
        "data.info()"
      ],
      "execution_count": 10,
      "outputs": [
        {
          "output_type": "stream",
          "text": [
            "<class 'pandas.core.frame.DataFrame'>\n",
            "RangeIndex: 200853 entries, 0 to 200852\n",
            "Data columns (total 6 columns):\n",
            "category             200853 non-null object\n",
            "headline             200853 non-null object\n",
            "authors              200853 non-null object\n",
            "link                 200853 non-null object\n",
            "short_description    200853 non-null object\n",
            "date                 200853 non-null datetime64[ns]\n",
            "dtypes: datetime64[ns](1), object(5)\n",
            "memory usage: 9.2+ MB\n"
          ],
          "name": "stdout"
        }
      ]
    },
    {
      "cell_type": "code",
      "metadata": {
        "id": "NJvAV0Cn6g-V",
        "colab_type": "code",
        "outputId": "efcf94b3-8982-4053-c65a-44a28c548b54",
        "colab": {
          "base_uri": "https://localhost:8080/",
          "height": 357
        }
      },
      "source": [
        "data.describe(include=\"all\")"
      ],
      "execution_count": 11,
      "outputs": [
        {
          "output_type": "execute_result",
          "data": {
            "text/html": [
              "<div>\n",
              "<style scoped>\n",
              "    .dataframe tbody tr th:only-of-type {\n",
              "        vertical-align: middle;\n",
              "    }\n",
              "\n",
              "    .dataframe tbody tr th {\n",
              "        vertical-align: top;\n",
              "    }\n",
              "\n",
              "    .dataframe thead th {\n",
              "        text-align: right;\n",
              "    }\n",
              "</style>\n",
              "<table border=\"1\" class=\"dataframe\">\n",
              "  <thead>\n",
              "    <tr style=\"text-align: right;\">\n",
              "      <th></th>\n",
              "      <th>category</th>\n",
              "      <th>headline</th>\n",
              "      <th>authors</th>\n",
              "      <th>link</th>\n",
              "      <th>short_description</th>\n",
              "      <th>date</th>\n",
              "    </tr>\n",
              "  </thead>\n",
              "  <tbody>\n",
              "    <tr>\n",
              "      <th>count</th>\n",
              "      <td>200853</td>\n",
              "      <td>200853</td>\n",
              "      <td>200853</td>\n",
              "      <td>200853</td>\n",
              "      <td>200853</td>\n",
              "      <td>200853</td>\n",
              "    </tr>\n",
              "    <tr>\n",
              "      <th>unique</th>\n",
              "      <td>41</td>\n",
              "      <td>199344</td>\n",
              "      <td>27993</td>\n",
              "      <td>200812</td>\n",
              "      <td>178353</td>\n",
              "      <td>2309</td>\n",
              "    </tr>\n",
              "    <tr>\n",
              "      <th>top</th>\n",
              "      <td>POLITICS</td>\n",
              "      <td>Sunday Roundup</td>\n",
              "      <td></td>\n",
              "      <td>https://www.huffingtonpost.comhttp://www.mothe...</td>\n",
              "      <td></td>\n",
              "      <td>2013-01-17 00:00:00</td>\n",
              "    </tr>\n",
              "    <tr>\n",
              "      <th>freq</th>\n",
              "      <td>32739</td>\n",
              "      <td>90</td>\n",
              "      <td>36620</td>\n",
              "      <td>2</td>\n",
              "      <td>19712</td>\n",
              "      <td>100</td>\n",
              "    </tr>\n",
              "    <tr>\n",
              "      <th>first</th>\n",
              "      <td>NaN</td>\n",
              "      <td>NaN</td>\n",
              "      <td>NaN</td>\n",
              "      <td>NaN</td>\n",
              "      <td>NaN</td>\n",
              "      <td>2012-01-28 00:00:00</td>\n",
              "    </tr>\n",
              "    <tr>\n",
              "      <th>last</th>\n",
              "      <td>NaN</td>\n",
              "      <td>NaN</td>\n",
              "      <td>NaN</td>\n",
              "      <td>NaN</td>\n",
              "      <td>NaN</td>\n",
              "      <td>2018-05-26 00:00:00</td>\n",
              "    </tr>\n",
              "  </tbody>\n",
              "</table>\n",
              "</div>"
            ],
            "text/plain": [
              "        category        headline  ... short_description                 date\n",
              "count     200853          200853  ...            200853               200853\n",
              "unique        41          199344  ...            178353                 2309\n",
              "top     POLITICS  Sunday Roundup  ...                    2013-01-17 00:00:00\n",
              "freq       32739              90  ...             19712                  100\n",
              "first        NaN             NaN  ...               NaN  2012-01-28 00:00:00\n",
              "last         NaN             NaN  ...               NaN  2018-05-26 00:00:00\n",
              "\n",
              "[6 rows x 6 columns]"
            ]
          },
          "metadata": {
            "tags": []
          },
          "execution_count": 11
        }
      ]
    },
    {
      "cell_type": "code",
      "metadata": {
        "id": "p3q_jSjN6hCZ",
        "colab_type": "code",
        "outputId": "62702660-30a7-4bdd-efe2-747c390dc084",
        "colab": {
          "base_uri": "https://localhost:8080/",
          "height": 306
        }
      },
      "source": [
        "data.head(5).T"
      ],
      "execution_count": 12,
      "outputs": [
        {
          "output_type": "execute_result",
          "data": {
            "text/html": [
              "<div>\n",
              "<style scoped>\n",
              "    .dataframe tbody tr th:only-of-type {\n",
              "        vertical-align: middle;\n",
              "    }\n",
              "\n",
              "    .dataframe tbody tr th {\n",
              "        vertical-align: top;\n",
              "    }\n",
              "\n",
              "    .dataframe thead th {\n",
              "        text-align: right;\n",
              "    }\n",
              "</style>\n",
              "<table border=\"1\" class=\"dataframe\">\n",
              "  <thead>\n",
              "    <tr style=\"text-align: right;\">\n",
              "      <th></th>\n",
              "      <th>0</th>\n",
              "      <th>1</th>\n",
              "      <th>2</th>\n",
              "      <th>3</th>\n",
              "      <th>4</th>\n",
              "    </tr>\n",
              "  </thead>\n",
              "  <tbody>\n",
              "    <tr>\n",
              "      <th>category</th>\n",
              "      <td>CRIME</td>\n",
              "      <td>ENTERTAINMENT</td>\n",
              "      <td>ENTERTAINMENT</td>\n",
              "      <td>ENTERTAINMENT</td>\n",
              "      <td>ENTERTAINMENT</td>\n",
              "    </tr>\n",
              "    <tr>\n",
              "      <th>headline</th>\n",
              "      <td>There Were 2 Mass Shootings In Texas Last Week...</td>\n",
              "      <td>Will Smith Joins Diplo And Nicky Jam For The 2...</td>\n",
              "      <td>Hugh Grant Marries For The First Time At Age 57</td>\n",
              "      <td>Jim Carrey Blasts 'Castrato' Adam Schiff And D...</td>\n",
              "      <td>Julianna Margulies Uses Donald Trump Poop Bags...</td>\n",
              "    </tr>\n",
              "    <tr>\n",
              "      <th>authors</th>\n",
              "      <td>Melissa Jeltsen</td>\n",
              "      <td>Andy McDonald</td>\n",
              "      <td>Ron Dicker</td>\n",
              "      <td>Ron Dicker</td>\n",
              "      <td>Ron Dicker</td>\n",
              "    </tr>\n",
              "    <tr>\n",
              "      <th>link</th>\n",
              "      <td>https://www.huffingtonpost.com/entry/texas-ama...</td>\n",
              "      <td>https://www.huffingtonpost.com/entry/will-smit...</td>\n",
              "      <td>https://www.huffingtonpost.com/entry/hugh-gran...</td>\n",
              "      <td>https://www.huffingtonpost.com/entry/jim-carre...</td>\n",
              "      <td>https://www.huffingtonpost.com/entry/julianna-...</td>\n",
              "    </tr>\n",
              "    <tr>\n",
              "      <th>short_description</th>\n",
              "      <td>She left her husband. He killed their children...</td>\n",
              "      <td>Of course it has a song.</td>\n",
              "      <td>The actor and his longtime girlfriend Anna Ebe...</td>\n",
              "      <td>The actor gives Dems an ass-kicking for not fi...</td>\n",
              "      <td>The \"Dietland\" actress said using the bags is ...</td>\n",
              "    </tr>\n",
              "    <tr>\n",
              "      <th>date</th>\n",
              "      <td>2018-05-26 00:00:00</td>\n",
              "      <td>2018-05-26 00:00:00</td>\n",
              "      <td>2018-05-26 00:00:00</td>\n",
              "      <td>2018-05-26 00:00:00</td>\n",
              "      <td>2018-05-26 00:00:00</td>\n",
              "    </tr>\n",
              "  </tbody>\n",
              "</table>\n",
              "</div>"
            ],
            "text/plain": [
              "                                                                   0  ...                                                  4\n",
              "category                                                       CRIME  ...                                      ENTERTAINMENT\n",
              "headline           There Were 2 Mass Shootings In Texas Last Week...  ...  Julianna Margulies Uses Donald Trump Poop Bags...\n",
              "authors                                              Melissa Jeltsen  ...                                         Ron Dicker\n",
              "link               https://www.huffingtonpost.com/entry/texas-ama...  ...  https://www.huffingtonpost.com/entry/julianna-...\n",
              "short_description  She left her husband. He killed their children...  ...  The \"Dietland\" actress said using the bags is ...\n",
              "date                                             2018-05-26 00:00:00  ...                                2018-05-26 00:00:00\n",
              "\n",
              "[6 rows x 5 columns]"
            ]
          },
          "metadata": {
            "tags": []
          },
          "execution_count": 12
        }
      ]
    },
    {
      "cell_type": "code",
      "metadata": {
        "id": "xuOv4-QB6hF3",
        "colab_type": "code",
        "colab": {}
      },
      "source": [
        "def merge_str(row):\n",
        "  return row['headline'] + '. ' + row['short_description']\n",
        "\n",
        "data[\"merged_text\"] = data.apply(merge_str, axis=1)\n",
        "data = data[['category','merged_text']]"
      ],
      "execution_count": 0,
      "outputs": []
    },
    {
      "cell_type": "code",
      "metadata": {
        "id": "Myt96YMHAf3_",
        "colab_type": "code",
        "outputId": "5bfe423b-ef6e-4ce0-9e23-998dd66422c2",
        "colab": {
          "base_uri": "https://localhost:8080/",
          "height": 68
        }
      },
      "source": [
        "data.iloc[3,:]"
      ],
      "execution_count": 14,
      "outputs": [
        {
          "output_type": "execute_result",
          "data": {
            "text/plain": [
              "category                                           ENTERTAINMENT\n",
              "merged_text    Jim Carrey Blasts 'Castrato' Adam Schiff And D...\n",
              "Name: 3, dtype: object"
            ]
          },
          "metadata": {
            "tags": []
          },
          "execution_count": 14
        }
      ]
    },
    {
      "cell_type": "code",
      "metadata": {
        "id": "ZAd54qNiAgXY",
        "colab_type": "code",
        "outputId": "4699d576-7cc2-4344-ad8a-8ef28a61442c",
        "colab": {
          "base_uri": "https://localhost:8080/",
          "height": 731
        }
      },
      "source": [
        "data.category.value_counts()"
      ],
      "execution_count": 15,
      "outputs": [
        {
          "output_type": "execute_result",
          "data": {
            "text/plain": [
              "POLITICS          32739\n",
              "WELLNESS          17827\n",
              "ENTERTAINMENT     16058\n",
              "TRAVEL             9887\n",
              "STYLE & BEAUTY     9649\n",
              "PARENTING          8677\n",
              "HEALTHY LIVING     6694\n",
              "QUEER VOICES       6314\n",
              "FOOD & DRINK       6226\n",
              "BUSINESS           5937\n",
              "COMEDY             5175\n",
              "SPORTS             4884\n",
              "BLACK VOICES       4528\n",
              "HOME & LIVING      4195\n",
              "PARENTS            3955\n",
              "THE WORLDPOST      3664\n",
              "WEDDINGS           3651\n",
              "WOMEN              3490\n",
              "IMPACT             3459\n",
              "DIVORCE            3426\n",
              "CRIME              3405\n",
              "MEDIA              2815\n",
              "WEIRD NEWS         2670\n",
              "GREEN              2622\n",
              "WORLDPOST          2579\n",
              "RELIGION           2556\n",
              "STYLE              2254\n",
              "SCIENCE            2178\n",
              "WORLD NEWS         2177\n",
              "TASTE              2096\n",
              "TECH               2082\n",
              "MONEY              1707\n",
              "ARTS               1509\n",
              "FIFTY              1401\n",
              "GOOD NEWS          1398\n",
              "ARTS & CULTURE     1339\n",
              "ENVIRONMENT        1323\n",
              "COLLEGE            1144\n",
              "LATINO VOICES      1129\n",
              "CULTURE & ARTS     1030\n",
              "EDUCATION          1004\n",
              "Name: category, dtype: int64"
            ]
          },
          "metadata": {
            "tags": []
          },
          "execution_count": 15
        }
      ]
    },
    {
      "cell_type": "code",
      "metadata": {
        "id": "U54G1ZNJAgiH",
        "colab_type": "code",
        "colab": {}
      },
      "source": [
        "def keep_values(df, col_name, values):\n",
        "    return df.loc[df[col_name].isin(values), :].reset_index(drop=True)"
      ],
      "execution_count": 0,
      "outputs": []
    },
    {
      "cell_type": "code",
      "metadata": {
        "id": "ddf1WOPTC8df",
        "colab_type": "code",
        "colab": {}
      },
      "source": [
        "df = keep_values(\n",
        "    data, \"category\", data[\"category\"].value_counts()[:15].index\n",
        ")"
      ],
      "execution_count": 0,
      "outputs": []
    },
    {
      "cell_type": "code",
      "metadata": {
        "id": "FWu2_Vt6C8qG",
        "colab_type": "code",
        "outputId": "14ae555e-8b89-4b88-b1bb-a224db00cd83",
        "colab": {
          "base_uri": "https://localhost:8080/",
          "height": 289
        }
      },
      "source": [
        "df[\"category\"].value_counts()"
      ],
      "execution_count": 18,
      "outputs": [
        {
          "output_type": "execute_result",
          "data": {
            "text/plain": [
              "POLITICS          32739\n",
              "WELLNESS          17827\n",
              "ENTERTAINMENT     16058\n",
              "TRAVEL             9887\n",
              "STYLE & BEAUTY     9649\n",
              "PARENTING          8677\n",
              "HEALTHY LIVING     6694\n",
              "QUEER VOICES       6314\n",
              "FOOD & DRINK       6226\n",
              "BUSINESS           5937\n",
              "COMEDY             5175\n",
              "SPORTS             4884\n",
              "BLACK VOICES       4528\n",
              "HOME & LIVING      4195\n",
              "PARENTS            3955\n",
              "Name: category, dtype: int64"
            ]
          },
          "metadata": {
            "tags": []
          },
          "execution_count": 18
        }
      ]
    },
    {
      "cell_type": "code",
      "metadata": {
        "id": "MEUycgdUC8uE",
        "colab_type": "code",
        "colab": {}
      },
      "source": [
        "def make_category_map(labels) -> Dict[str, int]:\n",
        "    return {x: i for i, x in enumerate(sorted(set(labels)))}"
      ],
      "execution_count": 0,
      "outputs": []
    },
    {
      "cell_type": "code",
      "metadata": {
        "id": "AACTIHBOC8xO",
        "colab_type": "code",
        "colab": {}
      },
      "source": [
        "def init_category_map(filename, labels):\n",
        "    try:\n",
        "        category_map = load_file(filename)\n",
        "    except:\n",
        "        category_map = make_category_map(labels)\n",
        "        save_file(category_map, filename)\n",
        "    return category_map"
      ],
      "execution_count": 0,
      "outputs": []
    },
    {
      "cell_type": "code",
      "metadata": {
        "id": "arW5lQRqC80Y",
        "colab_type": "code",
        "colab": {}
      },
      "source": [
        "category_map = init_category_map(\n",
        "    TEMP_DIR / \"category_map.pickle\", df[\"category\"].values\n",
        ")"
      ],
      "execution_count": 0,
      "outputs": []
    },
    {
      "cell_type": "code",
      "metadata": {
        "id": "juxEbdH4C84t",
        "colab_type": "code",
        "outputId": "32238836-c411-4dd5-956d-4d17416b72e4",
        "colab": {
          "base_uri": "https://localhost:8080/",
          "height": 272
        }
      },
      "source": [
        "category_map"
      ],
      "execution_count": 22,
      "outputs": [
        {
          "output_type": "execute_result",
          "data": {
            "text/plain": [
              "{'BLACK VOICES': 0,\n",
              " 'BUSINESS': 1,\n",
              " 'COMEDY': 2,\n",
              " 'ENTERTAINMENT': 3,\n",
              " 'FOOD & DRINK': 4,\n",
              " 'HEALTHY LIVING': 5,\n",
              " 'HOME & LIVING': 6,\n",
              " 'PARENTING': 7,\n",
              " 'PARENTS': 8,\n",
              " 'POLITICS': 9,\n",
              " 'QUEER VOICES': 10,\n",
              " 'SPORTS': 11,\n",
              " 'STYLE & BEAUTY': 12,\n",
              " 'TRAVEL': 13,\n",
              " 'WELLNESS': 14}"
            ]
          },
          "metadata": {
            "tags": []
          },
          "execution_count": 22
        }
      ]
    },
    {
      "cell_type": "code",
      "metadata": {
        "id": "iyeZDligEML4",
        "colab_type": "code",
        "colab": {}
      },
      "source": [
        "n_categories = len(category_map)"
      ],
      "execution_count": 0,
      "outputs": []
    },
    {
      "cell_type": "code",
      "metadata": {
        "id": "w8OC6lrhEMVA",
        "colab_type": "code",
        "outputId": "922f6eda-f2eb-44ba-aa70-11e34dd8799b",
        "colab": {
          "base_uri": "https://localhost:8080/",
          "height": 34
        }
      },
      "source": [
        "n_categories"
      ],
      "execution_count": 24,
      "outputs": [
        {
          "output_type": "execute_result",
          "data": {
            "text/plain": [
              "15"
            ]
          },
          "metadata": {
            "tags": []
          },
          "execution_count": 24
        }
      ]
    },
    {
      "cell_type": "code",
      "metadata": {
        "id": "gWtseBjaEMaO",
        "colab_type": "code",
        "colab": {}
      },
      "source": [
        "df[\"category\"] = df[\"category\"].map(category_map)"
      ],
      "execution_count": 0,
      "outputs": []
    },
    {
      "cell_type": "code",
      "metadata": {
        "id": "4GuEo_xlEMgl",
        "colab_type": "code",
        "outputId": "18652dc0-4890-4563-ff39-49dda4396ab5",
        "colab": {
          "base_uri": "https://localhost:8080/",
          "height": 289
        }
      },
      "source": [
        "df.category.value_counts()"
      ],
      "execution_count": 26,
      "outputs": [
        {
          "output_type": "execute_result",
          "data": {
            "text/plain": [
              "9     32739\n",
              "14    17827\n",
              "3     16058\n",
              "13     9887\n",
              "12     9649\n",
              "7      8677\n",
              "5      6694\n",
              "10     6314\n",
              "4      6226\n",
              "1      5937\n",
              "2      5175\n",
              "11     4884\n",
              "0      4528\n",
              "6      4195\n",
              "8      3955\n",
              "Name: category, dtype: int64"
            ]
          },
          "metadata": {
            "tags": []
          },
          "execution_count": 26
        }
      ]
    },
    {
      "cell_type": "code",
      "metadata": {
        "id": "dQWFFHaFEMl3",
        "colab_type": "code",
        "colab": {}
      },
      "source": [
        "all_data_bundle = DataBundle.from_dataframe(\n",
        "    dataframe=df, x_col=\"merged_text\", y_col=\"category\"\n",
        ")"
      ],
      "execution_count": 0,
      "outputs": []
    },
    {
      "cell_type": "code",
      "metadata": {
        "id": "PbGMkMqjEMj8",
        "colab_type": "code",
        "colab": {}
      },
      "source": [
        "train_data_bundle, validation_data_bundle, test_data_bundle = DataBundle.split(\n",
        "    data_bundle=all_data_bundle, fracs=[0.2, 0.2, 0.2]\n",
        ")"
      ],
      "execution_count": 0,
      "outputs": []
    },
    {
      "cell_type": "code",
      "metadata": {
        "id": "QP6dkSeAEMed",
        "colab_type": "code",
        "colab": {}
      },
      "source": [
        "data_container = DataContainer(\n",
        "    train_data_bundle, validation_data_bundle, test_data_bundle\n",
        ")"
      ],
      "execution_count": 0,
      "outputs": []
    },
    {
      "cell_type": "code",
      "metadata": {
        "id": "pcYLVsBWLi4y",
        "colab_type": "code",
        "outputId": "55837593-8f22-4276-afd7-91612836ff0a",
        "colab": {
          "base_uri": "https://localhost:8080/",
          "height": 272
        }
      },
      "source": [
        "data_container.train.value_counts()"
      ],
      "execution_count": 30,
      "outputs": [
        {
          "output_type": "execute_result",
          "data": {
            "text/plain": [
              "{0: 861,\n",
              " 1: 1199,\n",
              " 2: 1038,\n",
              " 3: 3200,\n",
              " 4: 1311,\n",
              " 5: 1314,\n",
              " 6: 776,\n",
              " 7: 1713,\n",
              " 8: 821,\n",
              " 9: 6561,\n",
              " 10: 1219,\n",
              " 11: 1033,\n",
              " 12: 1895,\n",
              " 13: 2014,\n",
              " 14: 3594}"
            ]
          },
          "metadata": {
            "tags": []
          },
          "execution_count": 30
        }
      ]
    },
    {
      "cell_type": "code",
      "metadata": {
        "id": "x1l6dSRRLjJG",
        "colab_type": "code",
        "colab": {}
      },
      "source": [
        "class_weights = dict(\n",
        "    enumerate(\n",
        "        sk.utils.class_weight.compute_class_weight(\n",
        "            \"balanced\", np.unique(data_container.train.y), data_container.train.y\n",
        "        )\n",
        "    )\n",
        ")"
      ],
      "execution_count": 0,
      "outputs": []
    },
    {
      "cell_type": "code",
      "metadata": {
        "id": "G6Q1qRhkLjWG",
        "colab_type": "code",
        "colab": {}
      },
      "source": [
        "data_container.train = DataBundle.from_unbalanced(data_container.train)"
      ],
      "execution_count": 0,
      "outputs": []
    },
    {
      "cell_type": "code",
      "metadata": {
        "id": "_H1176aCLjiZ",
        "colab_type": "code",
        "outputId": "966d92b2-1432-4172-e5d8-9ea0d05ca67e",
        "colab": {
          "base_uri": "https://localhost:8080/",
          "height": 272
        }
      },
      "source": [
        "data_container.train.value_counts()"
      ],
      "execution_count": 33,
      "outputs": [
        {
          "output_type": "execute_result",
          "data": {
            "text/plain": [
              "{0: 6027,\n",
              " 1: 5995,\n",
              " 2: 6228,\n",
              " 3: 6400,\n",
              " 4: 6555,\n",
              " 5: 5256,\n",
              " 6: 6208,\n",
              " 7: 5139,\n",
              " 8: 5747,\n",
              " 9: 6561,\n",
              " 10: 6095,\n",
              " 11: 6198,\n",
              " 12: 5685,\n",
              " 13: 6042,\n",
              " 14: 3594}"
            ]
          },
          "metadata": {
            "tags": []
          },
          "execution_count": 33
        }
      ]
    },
    {
      "cell_type": "code",
      "metadata": {
        "id": "5dX0Gw0iL0i5",
        "colab_type": "code",
        "outputId": "f96feaa9-31bf-4d2c-f337-99e1a9953e86",
        "colab": {
          "base_uri": "https://localhost:8080/",
          "height": 34
        }
      },
      "source": [
        "len(data_container.train), len(data_container.validation), len(data_container.test)"
      ],
      "execution_count": 34,
      "outputs": [
        {
          "output_type": "execute_result",
          "data": {
            "text/plain": [
              "(87730, 28549, 28549)"
            ]
          },
          "metadata": {
            "tags": []
          },
          "execution_count": 34
        }
      ]
    },
    {
      "cell_type": "code",
      "metadata": {
        "id": "Xf3xKTcKL01M",
        "colab_type": "code",
        "colab": {}
      },
      "source": [
        "def make_dataset(data_bundle):\n",
        "    return tf.data.Dataset.from_tensor_slices((data_bundle.x, data_bundle.y))"
      ],
      "execution_count": 0,
      "outputs": []
    },
    {
      "cell_type": "code",
      "metadata": {
        "id": "4qds6qNpL08d",
        "colab_type": "code",
        "colab": {}
      },
      "source": [
        "data_container.train.dataset = make_dataset(data_container.train)\n",
        "data_container.validation.dataset = make_dataset(data_container.validation)\n",
        "data_container.test.dataset = make_dataset(data_container.test)"
      ],
      "execution_count": 0,
      "outputs": []
    },
    {
      "cell_type": "code",
      "metadata": {
        "id": "bNrDBpCSL1Cl",
        "colab_type": "code",
        "outputId": "d7c0e25c-63b7-4c0c-8c3e-81b45ce1e950",
        "colab": {
          "base_uri": "https://localhost:8080/",
          "height": 54
        }
      },
      "source": [
        "data_container.train.x[5]"
      ],
      "execution_count": 37,
      "outputs": [
        {
          "output_type": "execute_result",
          "data": {
            "text/plain": [
              "\"Jamie Foxx's Daughter Corinne Named Miss Golden Globe 2016. Jamie Foxx is one proud papa. \\xa0 The actor's 21-year-old daughter Corinne Foxx has been named Miss Golden Globe 2016 by the\""
            ]
          },
          "metadata": {
            "tags": []
          },
          "execution_count": 37
        }
      ]
    },
    {
      "cell_type": "code",
      "metadata": {
        "id": "EvI3pAMzL1P4",
        "colab_type": "code",
        "outputId": "4ce64778-3a52-4269-f0b1-9d8ee1a96f40",
        "colab": {
          "base_uri": "https://localhost:8080/",
          "height": 34
        }
      },
      "source": [
        "data_container.train.y[5]"
      ],
      "execution_count": 38,
      "outputs": [
        {
          "output_type": "execute_result",
          "data": {
            "text/plain": [
              "0"
            ]
          },
          "metadata": {
            "tags": []
          },
          "execution_count": 38
        }
      ]
    },
    {
      "cell_type": "code",
      "metadata": {
        "id": "7F-paKUrL1Vm",
        "colab_type": "code",
        "colab": {}
      },
      "source": [
        "def make_sentence_length_limiter(limit):\n",
        "    def inner(x, y):\n",
        "        return tf.strings.substr(x, 0, limit), y\n",
        "\n",
        "    return inner"
      ],
      "execution_count": 0,
      "outputs": []
    },
    {
      "cell_type": "code",
      "metadata": {
        "id": "xqFDGQDWL1T0",
        "colab_type": "code",
        "colab": {}
      },
      "source": [
        "length_limiter = make_sentence_length_limiter(300)"
      ],
      "execution_count": 0,
      "outputs": []
    },
    {
      "cell_type": "code",
      "metadata": {
        "id": "2ZxAfzshL1OT",
        "colab_type": "code",
        "colab": {}
      },
      "source": [
        "train_dataset = (\n",
        "    data_container.train.dataset.repeat()\n",
        "    .shuffle(len(data_container.train))\n",
        "    .batch(BATCH_SIZE)\n",
        "    .map(length_limiter)\n",
        "    .prefetch(AUTOTUNE)\n",
        ")\n",
        "\n",
        "validation_dataset = (\n",
        "    data_container.validation.dataset.batch(BATCH_SIZE)\n",
        "    .map(length_limiter)\n",
        "    .prefetch(AUTOTUNE)\n",
        ")"
      ],
      "execution_count": 0,
      "outputs": []
    },
    {
      "cell_type": "code",
      "metadata": {
        "id": "zqPzIjYoL1Ld",
        "colab_type": "code",
        "colab": {}
      },
      "source": [
        "train_dataset_steps = math.ceil(len(data_container.train) / BATCH_SIZE)"
      ],
      "execution_count": 0,
      "outputs": []
    },
    {
      "cell_type": "markdown",
      "metadata": {
        "id": "FlSHdz44Py8z",
        "colab_type": "text"
      },
      "source": [
        "## **Tf hub pretrained models**"
      ]
    },
    {
      "cell_type": "code",
      "metadata": {
        "id": "Sr3GkZUjL1Im",
        "colab_type": "code",
        "colab": {}
      },
      "source": [
        "def train_model(\n",
        "    model,\n",
        "    epochs,\n",
        "    lrs=None,\n",
        "    optimizers=None,\n",
        "    patience=5,\n",
        "    verbose=1,\n",
        "    log_dir=str(TEMP_DIR / \"logs\"),\n",
        "):\n",
        "    if optimizers is None:\n",
        "        optimizers = [keras.optimizers.Adam(lr) for lr in lrs]\n",
        "    model.layers[0].trainable = False\n",
        "    model.compile(\n",
        "        loss=keras.losses.sparse_categorical_crossentropy,\n",
        "        optimizer=optimizers[0],\n",
        "        metrics=[\n",
        "            keras.metrics.sparse_categorical_accuracy,\n",
        "            sparse_top_2_categorical_accuracy,\n",
        "        ],\n",
        "    )\n",
        "    model.fit(\n",
        "        train_dataset,\n",
        "        steps_per_epoch=train_dataset_steps,\n",
        "        validation_data=validation_dataset,\n",
        "        epochs=epochs[0],\n",
        "        callbacks=[\n",
        "            keras.callbacks.ReduceLROnPlateau(patience=1, factor=0.3),\n",
        "            keras.callbacks.EarlyStopping(patience=2, restore_best_weights=True),\n",
        "        ],\n",
        "        class_weight=class_weights,\n",
        "        verbose=verbose,\n",
        "    )\n",
        "    model.layers[0].trainable = True\n",
        "    model.compile(\n",
        "        loss=keras.losses.sparse_categorical_crossentropy,\n",
        "        optimizer=optimizers[1],\n",
        "        metrics=[\n",
        "            keras.metrics.sparse_categorical_accuracy,\n",
        "            sparse_top_2_categorical_accuracy,\n",
        "        ],\n",
        "    )\n",
        "    model.fit(\n",
        "        train_dataset,\n",
        "        steps_per_epoch=train_dataset_steps,\n",
        "        validation_data=validation_dataset,\n",
        "        epochs=epochs[1],\n",
        "        callbacks=[\n",
        "            keras.callbacks.ReduceLROnPlateau(patience=patience // 2, factor=0.3),\n",
        "            keras.callbacks.EarlyStopping(patience=patience, restore_best_weights=True),\n",
        "        ],\n",
        "        class_weight=class_weights,\n",
        "        verbose=verbose,\n",
        "    )"
      ],
      "execution_count": 0,
      "outputs": []
    },
    {
      "cell_type": "code",
      "metadata": {
        "id": "j5D8b2_ML1Gb",
        "colab_type": "code",
        "colab": {}
      },
      "source": [
        "def make_hub_model(url):\n",
        "    return keras.Sequential(\n",
        "        [\n",
        "            hub.KerasLayer(url, dtype=tf.string, input_shape=[]),\n",
        "            keras.layers.Dropout(0.5),\n",
        "            keras.layers.Dense(n_categories, activation=keras.activations.softmax),\n",
        "        ]\n",
        "    )"
      ],
      "execution_count": 0,
      "outputs": []
    },
    {
      "cell_type": "code",
      "metadata": {
        "id": "qivZIoTVL1Aa",
        "colab_type": "code",
        "colab": {}
      },
      "source": [
        "def run_models(urls):\n",
        "    for url in urls:\n",
        "        model = make_hub_model(url)\n",
        "        model_name = f\"{url.split('/')[4]}\"\n",
        "        print(f\" {model_name} \".center(80, \"=\"))\n",
        "        shutil.rmtree(str(TEMP_DIR / model_name), ignore_errors=True)\n",
        "        train_model(\n",
        "            model=model,\n",
        "            epochs=[8, 8],\n",
        "            optimizers=[keras.optimizers.Adam(lr=1e-4), keras.optimizers.Adam(lr=3e-5)],\n",
        "            patience=2,\n",
        "            verbose=2,\n",
        "            log_dir=str(TEMP_DIR / model_name),\n",
        "        )\n",
        "        model.save(f\"{TEMP_DIR / model_name}.h5\")\n",
        "        save_keras_model(\n",
        "            model,\n",
        "            str(TEMP_DIR / model_name / \"architecture\"),\n",
        "            str(TEMP_DIR / model_name / \"weights\"),\n",
        "        )\n",
        "        keras.backend.clear_session()\n",
        "        del model\n",
        "        keras.backend.clear_session()"
      ],
      "execution_count": 0,
      "outputs": []
    },
    {
      "cell_type": "code",
      "metadata": {
        "id": "mL7nghZEL06v",
        "colab_type": "code",
        "colab": {}
      },
      "source": [
        "model_urls = (\n",
        "    \"https://tfhub.dev/google/Wiki-words-250-with-normalization/2\",\n",
        "    \"https://tfhub.dev/google/nnlm-en-dim128-with-normalization/2\",\n",
        "    \"https://tfhub.dev/google/tf2-preview/gnews-swivel-20dim/1\"\n",
        ")"
      ],
      "execution_count": 0,
      "outputs": []
    },
    {
      "cell_type": "code",
      "metadata": {
        "id": "7DgADPX1L0y4",
        "colab_type": "code",
        "outputId": "f0794fd7-897f-44e8-d364-cdebc3667cab",
        "colab": {
          "base_uri": "https://localhost:8080/",
          "height": 513
        }
      },
      "source": [
        "run_models(model_urls)"
      ],
      "execution_count": 0,
      "outputs": [
        {
          "output_type": "stream",
          "text": [
            "INFO:absl:Using /tmp/tfhub_modules to cache modules.\n",
            "INFO:absl:Downloading TF-Hub Module 'https://tfhub.dev/google/Wiki-words-250-with-normalization/2'.\n",
            "INFO:absl:Downloaded https://tfhub.dev/google/Wiki-words-250-with-normalization/2, Total size: 970.91MB\n",
            "INFO:absl:Downloaded TF-Hub Module 'https://tfhub.dev/google/Wiki-words-250-with-normalization/2'.\n"
          ],
          "name": "stderr"
        },
        {
          "output_type": "stream",
          "text": [
            "====================== Wiki-words-250-with-normalization =======================\n",
            "Train for 10967 steps, validate for 3569 steps\n",
            "Epoch 1/8\n",
            "10967/10967 - 59s - loss: 2.4123 - sparse_categorical_accuracy: 0.2404 - sparse_top_2_categorical_accuracy: 0.3793 - val_loss: 2.2445 - val_sparse_categorical_accuracy: 0.4100 - val_sparse_top_2_categorical_accuracy: 0.5497\n",
            "Epoch 2/8\n",
            "10967/10967 - 58s - loss: 2.1196 - sparse_categorical_accuracy: 0.3577 - sparse_top_2_categorical_accuracy: 0.5231 - val_loss: 1.9961 - val_sparse_categorical_accuracy: 0.4472 - val_sparse_top_2_categorical_accuracy: 0.6024\n",
            "Epoch 3/8\n",
            "10967/10967 - 57s - loss: 1.9873 - sparse_categorical_accuracy: 0.3964 - sparse_top_2_categorical_accuracy: 0.5636 - val_loss: 1.8808 - val_sparse_categorical_accuracy: 0.4657 - val_sparse_top_2_categorical_accuracy: 0.6258\n",
            "Epoch 4/8\n",
            "10967/10967 - 57s - loss: 1.9106 - sparse_categorical_accuracy: 0.4163 - sparse_top_2_categorical_accuracy: 0.5849 - val_loss: 1.7903 - val_sparse_categorical_accuracy: 0.4876 - val_sparse_top_2_categorical_accuracy: 0.6542\n",
            "Epoch 5/8\n",
            "10967/10967 - 56s - loss: 1.8544 - sparse_categorical_accuracy: 0.4324 - sparse_top_2_categorical_accuracy: 0.6001 - val_loss: 1.7341 - val_sparse_categorical_accuracy: 0.4969 - val_sparse_top_2_categorical_accuracy: 0.6652\n",
            "Epoch 6/8\n",
            "10967/10967 - 56s - loss: 1.8212 - sparse_categorical_accuracy: 0.4388 - sparse_top_2_categorical_accuracy: 0.6088 - val_loss: 1.6917 - val_sparse_categorical_accuracy: 0.5067 - val_sparse_top_2_categorical_accuracy: 0.6759\n",
            "Epoch 7/8\n",
            "10967/10967 - 57s - loss: 1.7929 - sparse_categorical_accuracy: 0.4420 - sparse_top_2_categorical_accuracy: 0.6136 - val_loss: 1.6664 - val_sparse_categorical_accuracy: 0.5095 - val_sparse_top_2_categorical_accuracy: 0.6786\n",
            "Epoch 8/8\n",
            "10967/10967 - 57s - loss: 1.7735 - sparse_categorical_accuracy: 0.4475 - sparse_top_2_categorical_accuracy: 0.6178 - val_loss: 1.6258 - val_sparse_categorical_accuracy: 0.5216 - val_sparse_top_2_categorical_accuracy: 0.6920\n",
            "Train for 10967 steps, validate for 3569 steps\n",
            "Epoch 1/8\n",
            "10967/10967 - 742s - loss: 1.5666 - sparse_categorical_accuracy: 0.5197 - sparse_top_2_categorical_accuracy: 0.6931 - val_loss: 1.4394 - val_sparse_categorical_accuracy: 0.5666 - val_sparse_top_2_categorical_accuracy: 0.7386\n",
            "Epoch 2/8\n",
            "10967/10967 - 742s - loss: 1.2481 - sparse_categorical_accuracy: 0.6341 - sparse_top_2_categorical_accuracy: 0.7948 - val_loss: 1.2780 - val_sparse_categorical_accuracy: 0.6095 - val_sparse_top_2_categorical_accuracy: 0.7820\n",
            "Epoch 3/8\n"
          ],
          "name": "stdout"
        }
      ]
    },
    {
      "cell_type": "code",
      "metadata": {
        "id": "-KOgPw0MP9Gu",
        "colab_type": "code",
        "colab": {}
      },
      "source": [
        "print(\n",
        "    classification_report(\n",
        "        data_container.validation.y, \n",
        "        load_keras_model(\n",
        "            str(TEMP_DIR/model_urls[0].split('/')[4]/'architecture'),\n",
        "            str(TEMP_DIR/model_urls[0].split('/')[4]/'weights'),\n",
        "            custom_objects={'KerasLayer':hub.KerasLayer}\n",
        "        ).predict(data_container.validation.x).argmax(axis=1)))\n"
      ],
      "execution_count": 0,
      "outputs": []
    },
    {
      "cell_type": "code",
      "metadata": {
        "id": "rctSIs9hMeyz",
        "colab_type": "code",
        "colab": {}
      },
      "source": [
        "print(\n",
        "    classification_report(\n",
        "        data_container.validation.y, \n",
        "        load_keras_model(\n",
        "            str(TEMP_DIR/model_urls[1].split('/')[4]/'architecture'),\n",
        "            str(TEMP_DIR/model_urls[1].split('/')[4]/'weights'),\n",
        "            custom_objects={'KerasLayer':hub.KerasLayer}\n",
        "        ).predict(data_container.validation.x).argmax(axis=1)))\n"
      ],
      "execution_count": 0,
      "outputs": []
    },
    {
      "cell_type": "code",
      "metadata": {
        "id": "cA5wuWOaNIGE",
        "colab_type": "code",
        "colab": {}
      },
      "source": [
        "print(\n",
        "    classification_report(\n",
        "        data_container.validation.y, \n",
        "        load_keras_model(\n",
        "            str(TEMP_DIR/model_urls[2].split('/')[4]/'architecture'),\n",
        "            str(TEMP_DIR/model_urls[2].split('/')[4]/'weights'),\n",
        "            custom_objects={'KerasLayer':hub.KerasLayer}\n",
        "        ).predict(data_container.validation.x).argmax(axis=1)))\n"
      ],
      "execution_count": 0,
      "outputs": []
    },
    {
      "cell_type": "code",
      "metadata": {
        "id": "ZjwDggvzMwmf",
        "colab_type": "code",
        "colab": {}
      },
      "source": [
        "data_container.validation.y"
      ],
      "execution_count": 0,
      "outputs": []
    },
    {
      "cell_type": "code",
      "metadata": {
        "id": "VthCH-veP9WA",
        "colab_type": "code",
        "colab": {}
      },
      "source": [
        "classification_report(load_keras_model(\n",
        "    str(TEMP_DIR/model_urls[0].split('/')[4]/'architecture'),\n",
        "    str(TEMP_DIR/model_urls[0].split('/')[4]/'weights'),\n",
        "    custom_objects={\"KerasLayer\":hub.KerasLayer}\n",
        "    ).predict(validation_dataset).argmax(axis=1)\n"
      ],
      "execution_count": 0,
      "outputs": []
    },
    {
      "cell_type": "code",
      "metadata": {
        "id": "6OK8AXzUP9e8",
        "colab_type": "code",
        "colab": {}
      },
      "source": [
        "print(\n",
        "    classification_report(\n",
        "        data_container.test.y, \n",
        "        load_keras_model(\n",
        "            TEMP_DIR/model_urls[2].split('/')[4]/'architecture',\n",
        "            TEMP_DIR/model_urls[2].split('/')[4]/'weights.index'\n",
        "        )\n",
        "        ).predict(test_dataset).argmax(axis=1))\n"
      ],
      "execution_count": 0,
      "outputs": []
    },
    {
      "cell_type": "markdown",
      "metadata": {
        "id": "yqiZIGH_NrNm",
        "colab_type": "text"
      },
      "source": [
        "## **BERT model**"
      ]
    },
    {
      "cell_type": "code",
      "metadata": {
        "id": "2pTwvVWxVE18",
        "colab_type": "code",
        "colab": {}
      },
      "source": [
        "def make_bert_dataset(data_bundle, tokenizer, sequence_length):\n",
        "    features = tf.data.Dataset.from_tensor_slices(\n",
        "        [\n",
        "            np.pad(\n",
        "                tokenizer.encode(x, add_special_tokens=True),\n",
        "                (0, sequence_length),\n",
        "                \"constant\",\n",
        "                constant_values=tokenizer.pad_token_id,\n",
        "            )[:sequence_length]\n",
        "            for x in data_bundle.x\n",
        "        ]\n",
        "    )\n",
        "    labels = tf.data.Dataset.from_tensor_slices(data_bundle.y)\n",
        "    dataset = tf.data.Dataset.zip((features, labels)).map(\n",
        "        lambda x, y: (\n",
        "            {\n",
        "                \"input_ids\": x,\n",
        "                \"attention_mask\": int(x != tokenizer.pad_token_id),\n",
        "                \"token_type_ids\": int(x >= tokenizer.pad_token_id),\n",
        "            },\n",
        "            y,\n",
        "        ),\n",
        "        num_parallel_calls=AUTOTUNE,\n",
        "    )\n",
        "    return dataset"
      ],
      "execution_count": 0,
      "outputs": []
    },
    {
      "cell_type": "code",
      "metadata": {
        "id": "VbRFM6RnVFVI",
        "colab_type": "code",
        "colab": {}
      },
      "source": [
        "config = transformers.BertConfig.from_pretrained(\n",
        "    \"bert-base-cased\", num_labels=n_categories\n",
        ")"
      ],
      "execution_count": 0,
      "outputs": []
    },
    {
      "cell_type": "code",
      "metadata": {
        "id": "YBSluvnGVFsl",
        "colab_type": "code",
        "colab": {}
      },
      "source": [
        "tokenizer = transformers.BertTokenizer.from_pretrained(\"bert-base-cased\")"
      ],
      "execution_count": 0,
      "outputs": []
    },
    {
      "cell_type": "code",
      "metadata": {
        "id": "9cg2rygNVF6g",
        "colab_type": "code",
        "colab": {}
      },
      "source": [
        "train_bert_dataset = (\n",
        "    make_bert_dataset(data_container.train, tokenizer, 128)\n",
        "    .repeat()\n",
        "    .shuffle(len(data_container.train))\n",
        "    .batch(BATCH_SIZE)\n",
        "    .prefetch(AUTOTUNE)\n",
        ")"
      ],
      "execution_count": 0,
      "outputs": []
    },
    {
      "cell_type": "code",
      "metadata": {
        "id": "fsHB269WWMUP",
        "colab_type": "code",
        "colab": {}
      },
      "source": [
        "validation_bert_dataset = (\n",
        "    make_bert_dataset(data_container.validation, tokenizer, 128)\n",
        "    .batch(BATCH_SIZE)\n",
        "    .prefetch(AUTOTUNE)\n",
        ")"
      ],
      "execution_count": 0,
      "outputs": []
    },
    {
      "cell_type": "code",
      "metadata": {
        "id": "OByohbuFWMv_",
        "colab_type": "code",
        "colab": {}
      },
      "source": [
        "model = transformers.TFBertForSequenceClassification.from_pretrained(\n",
        "    \"bert-base-cased\", config=config\n",
        ")"
      ],
      "execution_count": 0,
      "outputs": []
    },
    {
      "cell_type": "code",
      "metadata": {
        "id": "MK7xxLsEWM9g",
        "colab_type": "code",
        "colab": {}
      },
      "source": [
        "model.layers[0].trainable = False"
      ],
      "execution_count": 0,
      "outputs": []
    },
    {
      "cell_type": "code",
      "metadata": {
        "id": "iKv9X-YlWNPj",
        "colab_type": "code",
        "colab": {}
      },
      "source": [
        "model.compile(\n",
        "    loss=keras.losses.SparseCategoricalCrossentropy(from_logits=True),\n",
        "    optimizer=keras.optimizers.Adam(lr=1e-5),\n",
        "    metrics=[keras.metrics.SparseCategoricalAccuracy(\"accuracy\")],\n",
        ")"
      ],
      "execution_count": 0,
      "outputs": []
    },
    {
      "cell_type": "code",
      "metadata": {
        "id": "BVbo95eoWNJx",
        "colab_type": "code",
        "colab": {}
      },
      "source": [
        "def train_model_bert(\n",
        "    model,\n",
        "    epochs,\n",
        "    train_dataset,\n",
        "    train_dataset_steps,\n",
        "    validation_dataset,\n",
        "    lrs=None,\n",
        "    optimizers=None,\n",
        "    patience=5,\n",
        "    verbose=1,\n",
        "    log_dir=str(TEMP_DIR / \"bert/logs\"),\n",
        "):\n",
        "    model.layers[0].trainable = False\n",
        "    if optimizers is None:\n",
        "        optimizers = [keras.optimizers.Adam(lr) for lr in lrs]\n",
        "    model.compile(\n",
        "        loss=keras.losses.SparseCategoricalCrossentropy(from_logits=True),\n",
        "        optimizer=optimizers[0],\n",
        "        metrics=[\n",
        "            keras.metrics.sparse_categorical_accuracy,\n",
        "            sparse_top_2_categorical_accuracy,\n",
        "        ],\n",
        "    )\n",
        "    model.fit(\n",
        "        train_dataset,\n",
        "        steps_per_epoch=train_dataset_steps,\n",
        "        validation_data=validation_dataset,\n",
        "        epochs=epochs[0],\n",
        "        callbacks=[\n",
        "            keras.callbacks.ReduceLROnPlateau(patience=1, factor=0.3),\n",
        "            keras.callbacks.EarlyStopping(patience=2, restore_best_weights=True),\n",
        "        ],\n",
        "        class_weight=class_weights,\n",
        "        verbose=verbose,\n",
        "    )\n",
        "    model.layers[0].trainable = True\n",
        "    model.compile(\n",
        "        loss=keras.losses.SparseCategoricalCrossentropy(from_logits=True),\n",
        "        optimizer=optimizers[1],\n",
        "        metrics=[\n",
        "            keras.metrics.sparse_categorical_accuracy,\n",
        "            sparse_top_2_categorical_accuracy,\n",
        "        ],\n",
        "    )\n",
        "    model.fit(\n",
        "        train_dataset,\n",
        "        steps_per_epoch=train_dataset_steps,\n",
        "        validation_data=validation_dataset,\n",
        "        epochs=epochs[1],\n",
        "        callbacks=[\n",
        "            keras.callbacks.ReduceLROnPlateau(patience=patience // 2, factor=0.3),\n",
        "            keras.callbacks.EarlyStopping(patience=patience, restore_best_weights=True),\n",
        "            keras.callbacks.TensorBoard(log_dir=log_dir),\n",
        "        ],\n",
        "        class_weight=class_weights,\n",
        "        verbose=verbose,\n",
        "    )"
      ],
      "execution_count": 0,
      "outputs": []
    },
    {
      "cell_type": "code",
      "metadata": {
        "id": "hqHCnrU0XFpn",
        "colab_type": "code",
        "colab": {}
      },
      "source": [
        "train_model_bert(\n",
        "    model=model,\n",
        "    epochs=[8, 8],\n",
        "    train_dataset=train_bert_dataset,\n",
        "    train_dataset_steps=train_dataset_steps // 5,\n",
        "    validation_dataset=validation_bert_dataset,\n",
        "    optimizers=[keras.optimizers.Adam(lr=1e-5), keras.optimizers.Adam(lr=1e-6)],\n",
        "    patience=2,\n",
        "    verbose=2,\n",
        ")"
      ],
      "execution_count": 0,
      "outputs": []
    },
    {
      "cell_type": "code",
      "metadata": {
        "id": "5B_vfWhvXFYI",
        "colab_type": "code",
        "colab": {}
      },
      "source": [
        "print(\n",
        "    classification_report(\n",
        "        [label.numpy() for _, label in data_container.validation.unbatch()],\n",
        "        model.predict(data_container.validation).argmax(axis=1),\n",
        "    )\n",
        ")"
      ],
      "execution_count": 0,
      "outputs": []
    }
  ]
}